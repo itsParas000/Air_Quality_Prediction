{
  "nbformat": 4,
  "nbformat_minor": 0,
  "metadata": {
    "colab": {
      "provenance": []
    },
    "kernelspec": {
      "name": "python3",
      "display_name": "Python 3"
    },
    "language_info": {
      "name": "python"
    }
  },
  "cells": [
    {
      "cell_type": "markdown",
      "source": [
        "<h1>Project Title:</h1>\n",
        "<h2>Air Quality Prediction Using Machine Learning</h2>"
      ],
      "metadata": {
        "id": "sd1ki6Q-ILe_"
      }
    },
    {
      "cell_type": "markdown",
      "source": [
        "### Libraries Required:\n"
      ],
      "metadata": {
        "id": "eC5MBeNeImoD"
      }
    },
    {
      "cell_type": "code",
      "source": [
        "# Mount the drive to get the correct file\n",
        "from google.colab import drive\n",
        "drive.mount('/content/drive')"
      ],
      "metadata": {
        "id": "8QSg2AaMdqB8",
        "colab": {
          "base_uri": "https://localhost:8080/"
        },
        "outputId": "303ada39-6435-4396-f7d0-ab8c45517829"
      },
      "execution_count": null,
      "outputs": [
        {
          "output_type": "stream",
          "name": "stdout",
          "text": [
            "Mounted at /content/drive\n"
          ]
        }
      ]
    },
    {
      "cell_type": "code",
      "source": [
        "# Import Required Libraries\n",
        "import pandas as pd\n",
        "import numpy as np\n",
        "import matplotlib.pyplot as plt\n",
        "import seaborn as sns"
      ],
      "metadata": {
        "id": "CSd5qfPFIoL4"
      },
      "execution_count": null,
      "outputs": []
    },
    {
      "cell_type": "markdown",
      "source": [
        "### 1. Data Understanding"
      ],
      "metadata": {
        "id": "mOZ_SGXUIeOr"
      }
    },
    {
      "cell_type": "code",
      "source": [
        "# Load the dataset into a pandas DataFrame.\n",
        "df = pd.read_excel('/content/drive/MyDrive/INTERNSHIP/AirQualityUCI.xlsx')\n",
        "\n",
        "# Explore the data:\n",
        "# View the first few rows using .head().\n",
        "print(df.head(5))\n",
        "\n",
        "\n",
        "# Check shape before any changes\n",
        "print('\\n Check Shape before cleaning.', df.shape)\n",
        "\n",
        "# Check for missing values using .isnull().sum().\n",
        "print(df.isnull().sum())\n",
        "\n",
        "# Display data types and statistics using .info() and .describe().\n",
        "print('\\n Data Info')\n",
        "df.info()\n",
        "print('\\n Data Describe', df.describe())\n"
      ],
      "metadata": {
        "colab": {
          "base_uri": "https://localhost:8080/"
        },
        "id": "Q-PVJbClI9RQ",
        "outputId": "42facfa9-f3ac-422e-b854-2d1b0c3e034f"
      },
      "execution_count": null,
      "outputs": [
        {
          "output_type": "stream",
          "name": "stdout",
          "text": [
            "        Date      Time  CO(GT)  PT08.S1(CO)  NMHC(GT)   C6H6(GT)  \\\n",
            "0 2004-03-10  18:00:00     2.6      1360.00       150  11.881723   \n",
            "1 2004-03-10  19:00:00     2.0      1292.25       112   9.397165   \n",
            "2 2004-03-10  20:00:00     2.2      1402.00        88   8.997817   \n",
            "3 2004-03-10  21:00:00     2.2      1375.50        80   9.228796   \n",
            "4 2004-03-10  22:00:00     1.6      1272.25        51   6.518224   \n",
            "\n",
            "   PT08.S2(NMHC)  NOx(GT)  PT08.S3(NOx)  NO2(GT)  PT08.S4(NO2)  PT08.S5(O3)  \\\n",
            "0        1045.50    166.0       1056.25    113.0       1692.00      1267.50   \n",
            "1         954.75    103.0       1173.75     92.0       1558.75       972.25   \n",
            "2         939.25    131.0       1140.00    114.0       1554.50      1074.00   \n",
            "3         948.25    172.0       1092.00    122.0       1583.75      1203.25   \n",
            "4         835.50    131.0       1205.00    116.0       1490.00      1110.00   \n",
            "\n",
            "       T         RH        AH  \n",
            "0  13.60  48.875001  0.757754  \n",
            "1  13.30  47.700000  0.725487  \n",
            "2  11.90  53.975000  0.750239  \n",
            "3  11.00  60.000000  0.786713  \n",
            "4  11.15  59.575001  0.788794  \n",
            "\n",
            " Check Shape before cleaning. (9357, 15)\n",
            "Date             0\n",
            "Time             0\n",
            "CO(GT)           0\n",
            "PT08.S1(CO)      0\n",
            "NMHC(GT)         0\n",
            "C6H6(GT)         0\n",
            "PT08.S2(NMHC)    0\n",
            "NOx(GT)          0\n",
            "PT08.S3(NOx)     0\n",
            "NO2(GT)          0\n",
            "PT08.S4(NO2)     0\n",
            "PT08.S5(O3)      0\n",
            "T                0\n",
            "RH               0\n",
            "AH               0\n",
            "dtype: int64\n",
            "\n",
            " Data Info\n",
            "<class 'pandas.core.frame.DataFrame'>\n",
            "RangeIndex: 9357 entries, 0 to 9356\n",
            "Data columns (total 15 columns):\n",
            " #   Column         Non-Null Count  Dtype         \n",
            "---  ------         --------------  -----         \n",
            " 0   Date           9357 non-null   datetime64[ns]\n",
            " 1   Time           9357 non-null   object        \n",
            " 2   CO(GT)         9357 non-null   float64       \n",
            " 3   PT08.S1(CO)    9357 non-null   float64       \n",
            " 4   NMHC(GT)       9357 non-null   int64         \n",
            " 5   C6H6(GT)       9357 non-null   float64       \n",
            " 6   PT08.S2(NMHC)  9357 non-null   float64       \n",
            " 7   NOx(GT)        9357 non-null   float64       \n",
            " 8   PT08.S3(NOx)   9357 non-null   float64       \n",
            " 9   NO2(GT)        9357 non-null   float64       \n",
            " 10  PT08.S4(NO2)   9357 non-null   float64       \n",
            " 11  PT08.S5(O3)    9357 non-null   float64       \n",
            " 12  T              9357 non-null   float64       \n",
            " 13  RH             9357 non-null   float64       \n",
            " 14  AH             9357 non-null   float64       \n",
            "dtypes: datetime64[ns](1), float64(12), int64(1), object(1)\n",
            "memory usage: 1.1+ MB\n",
            "\n",
            " Data Describe                                 Date       CO(GT)  PT08.S1(CO)     NMHC(GT)  \\\n",
            "count                           9357  9357.000000  9357.000000  9357.000000   \n",
            "mean   2004-09-21 04:30:05.193972480   -34.207524  1048.869652  -159.090093   \n",
            "min              2004-03-10 00:00:00  -200.000000  -200.000000  -200.000000   \n",
            "25%              2004-06-16 00:00:00     0.600000   921.000000  -200.000000   \n",
            "50%              2004-09-21 00:00:00     1.500000  1052.500000  -200.000000   \n",
            "75%              2004-12-28 00:00:00     2.600000  1221.250000  -200.000000   \n",
            "max              2005-04-04 00:00:00    11.900000  2039.750000  1189.000000   \n",
            "std                              NaN    77.657170   329.817015   139.789093   \n",
            "\n",
            "          C6H6(GT)  PT08.S2(NMHC)      NOx(GT)  PT08.S3(NOx)      NO2(GT)  \\\n",
            "count  9357.000000    9357.000000  9357.000000   9357.000000  9357.000000   \n",
            "mean      1.865576     894.475963   168.604200    794.872333    58.135898   \n",
            "min    -200.000000    -200.000000  -200.000000   -200.000000  -200.000000   \n",
            "25%       4.004958     711.000000    50.000000    637.000000    53.000000   \n",
            "50%       7.886653     894.500000   141.000000    794.250000    96.000000   \n",
            "75%      13.636091    1104.750000   284.200000    960.250000   133.000000   \n",
            "max      63.741476    2214.000000  1479.000000   2682.750000   339.700000   \n",
            "std      41.380154     342.315902   257.424561    321.977031   126.931428   \n",
            "\n",
            "       PT08.S4(NO2)  PT08.S5(O3)            T           RH           AH  \n",
            "count   9357.000000  9357.000000  9357.000000  9357.000000  9357.000000  \n",
            "mean    1391.363266   974.951534     9.776600    39.483611    -6.837604  \n",
            "min     -200.000000  -200.000000  -200.000000  -200.000000  -200.000000  \n",
            "25%     1184.750000   699.750000    10.950000    34.050000     0.692275  \n",
            "50%     1445.500000   942.000000    17.200000    48.550000     0.976823  \n",
            "75%     1662.000000  1255.250000    24.075000    61.875000     1.296223  \n",
            "max     2775.000000  2522.750000    44.600000    88.725000     2.231036  \n",
            "std      467.192382   456.922728    43.203438    51.215645    38.976670  \n"
          ]
        }
      ]
    },
    {
      "cell_type": "markdown",
      "source": [
        "### 2. Data Preprocessing"
      ],
      "metadata": {
        "id": "YZgSvHilKpLY"
      }
    },
    {
      "cell_type": "code",
      "source": [
        "# Handle missing values:\n",
        "# Replace invalid or missing values (-200) with NaN\n",
        "df = df.replace(-200, np.nan)\n",
        "\n",
        "\n",
        "# Use the column mean to fill missing values\n",
        "numeric_col = df.select_dtypes(include = np.number).columns\n",
        "df[numeric_col] = df[numeric_col].fillna(df[numeric_col].mean())\n",
        "\n",
        "\n",
        "# Convert Date and Time columns into a single datetime column. Ensure it follows the YYYY-MM-DD HH:MM:SS format.\n",
        "df['Time'] = pd.to_timedelta(df['Time'].astype(str))\n",
        "\n",
        "# combine date and time column into the one single datetime column\n",
        "df['datetime'] = df['Date'] + df['Time']\n",
        "\n",
        "\n",
        "# Drop Original Columns Date and Time\n",
        "df = df.drop(['Date', 'Time'], axis = 1)\n",
        "\n",
        "\n",
        "# Check missing values\n",
        "print(df.isnull().sum())\n",
        "\n",
        "\n",
        "# Print new datetime column\n",
        "print('\\n New datetime column', df['datetime'].head(5))\n",
        "\n",
        "# check shape\n",
        "print('\\n check shape after removing missing value', df.shape)"
      ],
      "metadata": {
        "colab": {
          "base_uri": "https://localhost:8080/"
        },
        "id": "K8fRog41KtNp",
        "outputId": "c2ace24c-28a3-49f2-a45e-779151fe41db"
      },
      "execution_count": null,
      "outputs": [
        {
          "output_type": "stream",
          "name": "stdout",
          "text": [
            "CO(GT)           0\n",
            "PT08.S1(CO)      0\n",
            "NMHC(GT)         0\n",
            "C6H6(GT)         0\n",
            "PT08.S2(NMHC)    0\n",
            "NOx(GT)          0\n",
            "PT08.S3(NOx)     0\n",
            "NO2(GT)          0\n",
            "PT08.S4(NO2)     0\n",
            "PT08.S5(O3)      0\n",
            "T                0\n",
            "RH               0\n",
            "AH               0\n",
            "datetime         0\n",
            "dtype: int64\n",
            "\n",
            " New datetime column 0   2004-03-10 18:00:00\n",
            "1   2004-03-10 19:00:00\n",
            "2   2004-03-10 20:00:00\n",
            "3   2004-03-10 21:00:00\n",
            "4   2004-03-10 22:00:00\n",
            "Name: datetime, dtype: datetime64[ns]\n",
            "\n",
            " check shape after removing missing value (9357, 14)\n"
          ]
        }
      ]
    },
    {
      "cell_type": "markdown",
      "source": [
        "### 3. Feature Engineering"
      ],
      "metadata": {
        "id": "Ze7A6B8GdBSP"
      }
    },
    {
      "cell_type": "code",
      "source": [
        "from sklearn.preprocessing import StandardScaler\n",
        "\n",
        "# Retain important columns.\n",
        "imp_cols = ['CO(GT)', 'NMHC(GT)', 'C6H6(GT)', 'NOx(GT)', 'NO2(GT)', 'PT08.S5(O3)',\n",
        "                  'T', 'RH', 'AH', 'PT08.S1(CO)', 'PT08.S2(NMHC)', 'PT08.S3(NOx)', 'PT08.S4(NO2)', 'datetime']\n",
        "\n",
        "df = df[imp_cols]\n",
        "\n",
        "# set index for the datetime\n",
        "df.set_index('datetime', inplace = True)\n",
        "\n",
        "\n",
        "# Scale the data using StandardScaler or MinMaxScaler.\n",
        "numeric_col = df.select_dtypes(include = np.number).columns\n",
        "scaler = StandardScaler()\n",
        "df[numeric_col] = scaler.fit_transform(df[numeric_col])\n",
        "\n",
        "# Display the First few rows to verify\n",
        "print('\\n First 5 Rows after feature engineering:')\n",
        "print(df.head(5))\n",
        "\n",
        "print('\\n Data Types:')\n",
        "print(df.dtypes)\n",
        "print('\\n Data Describe:')\n",
        "print(df.describe())\n"
      ],
      "metadata": {
        "colab": {
          "base_uri": "https://localhost:8080/"
        },
        "id": "Ab1MTv0cdETT",
        "outputId": "5b00c67a-aedb-4c54-f470-f3d73b1865d4"
      },
      "execution_count": null,
      "outputs": [
        {
          "output_type": "stream",
          "name": "stdout",
          "text": [
            "\n",
            " First 5 Rows after feature engineering:\n",
            "                       CO(GT)  NMHC(GT)  C6H6(GT)   NOx(GT)   NO2(GT)  \\\n",
            "datetime                                                                \n",
            "2004-03-10 18:00:00  0.339856 -1.077427  0.246331 -0.418187 -0.001720   \n",
            "2004-03-10 19:00:00 -0.116071 -1.672415 -0.093922 -0.743922 -0.479984   \n",
            "2004-03-10 20:00:00  0.035905 -2.048197 -0.148612 -0.599151  0.021055   \n",
            "2004-03-10 21:00:00  0.035905 -2.173458 -0.116980 -0.387165  0.203251   \n",
            "2004-03-10 22:00:00 -0.420023 -2.627528 -0.488185 -0.599151  0.066604   \n",
            "\n",
            "                     PT08.S5(O3)         T        RH        AH  PT08.S1(CO)  \\\n",
            "datetime                                                                      \n",
            "2004-03-10 18:00:00     0.626540 -0.544709 -0.021054 -0.676520     1.223265   \n",
            "2004-03-10 19:00:00    -0.129371 -0.579359 -0.090280 -0.758039     0.904868   \n",
            "2004-03-10 20:00:00     0.131134 -0.741061  0.279416 -0.695505     1.420648   \n",
            "2004-03-10 21:00:00     0.462045 -0.845012  0.634383 -0.603357     1.296109   \n",
            "2004-03-10 22:00:00     0.223302 -0.827686  0.609344 -0.598098     0.810876   \n",
            "\n",
            "                     PT08.S2(NMHC)  PT08.S3(NOx)  PT08.S4(NO2)  \n",
            "datetime                                                        \n",
            "2004-03-10 18:00:00       0.407086      0.877450      0.695030  \n",
            "2004-03-10 19:00:00       0.060108      1.344223      0.302364  \n",
            "2004-03-10 20:00:00       0.000844      1.210150      0.289840  \n",
            "2004-03-10 21:00:00       0.035255      1.019468      0.376035  \n",
            "2004-03-10 22:00:00      -0.395839      1.468365      0.099770  \n",
            "\n",
            " Data Types:\n",
            "CO(GT)           float64\n",
            "NMHC(GT)         float64\n",
            "C6H6(GT)         float64\n",
            "NOx(GT)          float64\n",
            "NO2(GT)          float64\n",
            "PT08.S5(O3)      float64\n",
            "T                float64\n",
            "RH               float64\n",
            "AH               float64\n",
            "PT08.S1(CO)      float64\n",
            "PT08.S2(NMHC)    float64\n",
            "PT08.S3(NOx)     float64\n",
            "PT08.S4(NO2)     float64\n",
            "dtype: object\n",
            "\n",
            " Data Describe:\n",
            "            CO(GT)      NMHC(GT)      C6H6(GT)       NOx(GT)       NO2(GT)  \\\n",
            "count  9357.000000  9.357000e+03  9.357000e+03  9.357000e+03  9.357000e+03   \n",
            "mean      0.000000 -8.835502e-16  4.252473e-17 -8.808695e-17  3.280479e-16   \n",
            "std       1.000053  1.000053e+00  1.000053e+00  1.000053e+00  1.000053e+00   \n",
            "min      -1.559842 -3.316461e+00 -1.360426e+00 -1.266131e+00 -2.529690e+00   \n",
            "25%      -0.723975 -8.900306e-16 -7.520454e-01 -6.973884e-01 -6.189089e-01   \n",
            "50%       0.000000 -8.900306e-16 -2.040002e-01 -9.245301e-02  3.236452e-16   \n",
            "75%       0.339856 -8.900306e-16  4.865868e-01  1.929524e-01  4.537703e-01   \n",
            "max       7.406737  1.519080e+01  7.348380e+00  6.370532e+00  5.161260e+00   \n",
            "\n",
            "        PT08.S5(O3)             T            RH            AH   PT08.S1(CO)  \\\n",
            "count  9.357000e+03  9.357000e+03  9.357000e+03  9.357000e+03  9.357000e+03   \n",
            "mean  -1.883238e-16 -1.457991e-16  9.112443e-17 -2.429985e-16  7.289954e-17   \n",
            "std    1.000053e+00  1.000053e+00  1.000053e+00  1.000053e+00  1.000053e+00   \n",
            "min   -2.052752e+00 -2.334974e+00 -2.360008e+00 -2.124356e+00 -2.126364e+00   \n",
            "25%   -7.195066e-01 -7.266230e-01 -7.471903e-01 -7.059237e-01 -7.446862e-01   \n",
            "50%   -1.031284e-01 -4.741824e-03  0.000000e+00 -2.549052e-02 -1.184665e-01   \n",
            "75%    5.951775e-01  6.651640e-01  7.448501e-01  6.838882e-01  5.711976e-01   \n",
            "max    3.840284e+00  3.035822e+00  2.326737e+00  3.045632e+00  4.417808e+00   \n",
            "\n",
            "       PT08.S2(NMHC)  PT08.S3(NOx)  PT08.S4(NO2)  \n",
            "count   9.357000e+03  9.357000e+03  9.357000e+03  \n",
            "mean    4.252473e-17 -1.214992e-16 -4.859970e-17  \n",
            "std     1.000053e+00  1.000053e+00  1.000053e+00  \n",
            "min    -2.124994e+00 -2.039385e+00 -2.667308e+00  \n",
            "25%    -7.514196e-01 -6.748187e-01 -6.325188e-01  \n",
            "50%    -6.033101e-02 -7.099309e-02  0.000000e+00  \n",
            "75%     6.336252e-01  4.960865e-01  6.066250e-01  \n",
            "max     4.874787e+00  7.338781e+00  3.886452e+00  \n"
          ]
        }
      ]
    },
    {
      "cell_type": "markdown",
      "source": [
        "### 4. Model Development"
      ],
      "metadata": {
        "id": "R9GHEfU4lslt"
      }
    },
    {
      "cell_type": "code",
      "source": [
        "from sklearn.model_selection import train_test_split\n",
        "from prophet import Prophet\n",
        "\n",
        "\n",
        "# Rename the datetime column to ds and the target column to y.\n",
        "df_prophet = df.reset_index().rename(columns = {'datetime': 'ds', 'CO(GT)': 'y'})\n",
        "\n",
        "# Split the data into training and testing sets using train_test_split\n",
        "train_data, test_data = train_test_split(df_prophet, test_size=0.2, shuffle = False)\n",
        "\n",
        "# Train the model on ds and y.\n",
        "model = Prophet(yearly_seasonality = True, weekly_seasonality = True, daily_seasonality = True)\n",
        "model.fit(train_data[['ds', 'y']])\n",
        "\n",
        "# Predict future air quality levels\n",
        "future = model.make_future_dataframe(periods = len(test_data))\n",
        "forecast = model.predict(future)\n",
        "\n",
        "# Display the forecast for the test Period\n",
        "print('\\n Forecast for test period')\n",
        "print(forecast[['ds', 'yhat', 'yhat_lower', 'yhat_upper']].tail(len(test_data)))\n",
        "\n",
        "\n",
        "# merge with actual values\n",
        "forecast = forecast.merge(test_data[['ds', 'y']], on = 'ds', how = 'left')\n",
        "print(\"\\nForecast with actual values:\")\n",
        "print(forecast[['ds', 'y', 'yhat']].tail(len(test_data)))\n"
      ],
      "metadata": {
        "colab": {
          "base_uri": "https://localhost:8080/"
        },
        "id": "dpbqojXNlu2W",
        "outputId": "52f8f4ed-9a77-483d-bc7c-d8d90422118a"
      },
      "execution_count": null,
      "outputs": [
        {
          "output_type": "stream",
          "name": "stderr",
          "text": [
            "DEBUG:cmdstanpy:input tempfile: /tmp/tmpz5xnj1fs/c_whg5fv.json\n",
            "DEBUG:cmdstanpy:input tempfile: /tmp/tmpz5xnj1fs/ti04jn9n.json\n",
            "DEBUG:cmdstanpy:idx 0\n",
            "DEBUG:cmdstanpy:running CmdStan, num_threads: None\n",
            "DEBUG:cmdstanpy:CmdStan args: ['/usr/local/lib/python3.12/dist-packages/prophet/stan_model/prophet_model.bin', 'random', 'seed=16812', 'data', 'file=/tmp/tmpz5xnj1fs/c_whg5fv.json', 'init=/tmp/tmpz5xnj1fs/ti04jn9n.json', 'output', 'file=/tmp/tmpz5xnj1fs/prophet_model3a_pis_l/prophet_model-20250831063655.csv', 'method=optimize', 'algorithm=lbfgs', 'iter=10000']\n",
            "06:36:55 - cmdstanpy - INFO - Chain [1] start processing\n",
            "INFO:cmdstanpy:Chain [1] start processing\n",
            "06:36:55 - cmdstanpy - INFO - Chain [1] done processing\n",
            "INFO:cmdstanpy:Chain [1] done processing\n"
          ]
        },
        {
          "output_type": "stream",
          "name": "stdout",
          "text": [
            "\n",
            " Forecast for test period\n",
            "                      ds      yhat  yhat_lower  yhat_upper\n",
            "7485 2005-01-17 14:00:00  0.376406   -0.684681    1.386982\n",
            "7486 2005-01-18 14:00:00  0.706511   -0.315106    1.657648\n",
            "7487 2005-01-19 14:00:00  0.757271   -0.243483    1.800329\n",
            "7488 2005-01-20 14:00:00  0.826044   -0.165250    1.796412\n",
            "7489 2005-01-21 14:00:00  1.007358    0.007186    1.985492\n",
            "...                  ...       ...         ...         ...\n",
            "9352 2010-02-27 14:00:00 -5.292289   -6.286529   -4.216800\n",
            "9353 2010-02-28 14:00:00 -5.600897   -6.542550   -4.530564\n",
            "9354 2010-03-01 14:00:00 -5.321918   -6.371352   -4.328009\n",
            "9355 2010-03-02 14:00:00 -5.109816   -6.063900   -4.204449\n",
            "9356 2010-03-03 14:00:00 -5.176293   -6.209415   -4.178380\n",
            "\n",
            "[1872 rows x 4 columns]\n",
            "\n",
            "Forecast with actual values:\n",
            "                      ds         y      yhat\n",
            "7485 2005-01-17 14:00:00  0.719796  0.376406\n",
            "7486 2005-01-18 14:00:00  2.315543  0.706511\n",
            "7487 2005-01-19 14:00:00 -1.179903  0.757271\n",
            "7488 2005-01-20 14:00:00  0.643808  0.826044\n",
            "7489 2005-01-21 14:00:00  0.567820  1.007358\n",
            "...                  ...       ...       ...\n",
            "9352 2010-02-27 14:00:00       NaN -5.292289\n",
            "9353 2010-02-28 14:00:00       NaN -5.600897\n",
            "9354 2010-03-01 14:00:00       NaN -5.321918\n",
            "9355 2010-03-02 14:00:00       NaN -5.109816\n",
            "9356 2010-03-03 14:00:00       NaN -5.176293\n",
            "\n",
            "[1872 rows x 3 columns]\n"
          ]
        }
      ]
    },
    {
      "cell_type": "markdown",
      "source": [
        "### 5. Model Evaluation"
      ],
      "metadata": {
        "id": "XeCnToMN1JeV"
      }
    },
    {
      "cell_type": "code",
      "source": [
        "from sklearn.metrics import mean_squared_error, mean_absolute_error, r2_score\n",
        "\n",
        "# Merge actual and predicted values for test\n",
        "test_forecast = forecast[forecast['ds'].isin(test_data['ds'])].copy()\n",
        "actual = test_forecast['y']\n",
        "predicted = test_forecast['yhat']\n",
        "\n",
        "# Use evaluation metrics such as:\n",
        "# Mean Absolute Error (MAE), Root Mean Square Error (RMSE),  R-squared (R²)\n",
        "mae = mean_absolute_error(actual, predicted)\n",
        "rmse = np.sqrt(mean_squared_error(actual, predicted))\n",
        "r2 = r2_score(actual, predicted)\n",
        "\n",
        "# Print above 3 metrics\n",
        "print(f'\\n Mean Absolute Error (MAE): {mae:.4f}')\n",
        "print(f'\\n Root Mean Square Error (RMSE): {rmse:.4f}')\n",
        "print(f'\\n R-Square (R2): {r2:.4f}')\n",
        "\n",
        "\n",
        "# Visualize actual vs. predicted\n",
        "plt.figure(figsize = (10, 6))\n",
        "plt.plot(test_forecast['ds'], actual, label = 'Actual CO(GT)', color = 'blue')\n",
        "plt.plot(test_forecast['ds'], predicted, label = 'Predicted CO(GT)', color = 'red', alpha = 0.6)\n",
        "plt.xlabel('Date')\n",
        "plt.ylabel(' Scale CO(GT)')\n",
        "plt.title('Actual vs Predicted')\n",
        "plt.legend()\n",
        "plt.xticks(rotation = 45)\n",
        "plt.tight_layout()\n",
        "plt.show()\n"
      ],
      "metadata": {
        "id": "JA3Kriil1LV2",
        "colab": {
          "base_uri": "https://localhost:8080/",
          "height": 711
        },
        "outputId": "14691c82-2056-4523-baf4-862d1bb37b01"
      },
      "execution_count": null,
      "outputs": [
        {
          "output_type": "stream",
          "name": "stdout",
          "text": [
            "\n",
            " Mean Absolute Error (MAE): 0.9121\n",
            "\n",
            " Root Mean Square Error (RMSE): 1.0942\n",
            "\n",
            " R-Square (R2): -1.0786\n"
          ]
        },
        {
          "output_type": "display_data",
          "data": {
            "text/plain": [
              "<Figure size 1000x600 with 1 Axes>"
            ],
            "image/png": "[encoded data removed]"
          },
          "metadata": {}
        }
      ]
    },
    {
      "cell_type": "markdown",
      "source": [
        "### Explanation of results.\n",
        "\n",
        "The Prophet model was evaluated using the following metrics:\n",
        "- **Mean Absolute Error (MAE): 0.9121** - The average absolute difference between predicted and actual scaled CO(GT) values is 0.9121, indicating moderate prediction errors.\n",
        "- **Root Mean Square Error (RMSE): 1.0942** - This higher value suggests larger errors are present, impacting overall accuracy.\n",
        "- **R-squared (R²): -1.0786** - A negative R² indicates the model performs worse than a simple mean prediction, suggesting poor fit or potential overfitting.\n"
      ],
      "metadata": {
        "id": "BfL_OHhMECVP"
      }
    }
  ]
}